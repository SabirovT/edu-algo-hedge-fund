{
 "cells": [
  {
   "cell_type": "code",
   "execution_count": 33,
   "id": "99507a08",
   "metadata": {},
   "outputs": [],
   "source": [
    "import numpy as np\n",
    "import pandas as pd\n",
    "import matplotlib.pyplot as plt\n",
    "\n",
    "from tensorflow.keras.models import Sequential\n",
    "from tensorflow.keras.layers import LSTM\n",
    "from tensorflow.keras.layers import Dense, Dropout"
   ]
  },
  {
   "cell_type": "code",
   "execution_count": 5,
   "id": "d8b05677",
   "metadata": {
    "scrolled": true
   },
   "outputs": [
    {
     "data": {
      "text/html": [
       "<div>\n",
       "<style scoped>\n",
       "    .dataframe tbody tr th:only-of-type {\n",
       "        vertical-align: middle;\n",
       "    }\n",
       "\n",
       "    .dataframe tbody tr th {\n",
       "        vertical-align: top;\n",
       "    }\n",
       "\n",
       "    .dataframe thead th {\n",
       "        text-align: right;\n",
       "    }\n",
       "</style>\n",
       "<table border=\"1\" class=\"dataframe\">\n",
       "  <thead>\n",
       "    <tr style=\"text-align: right;\">\n",
       "      <th></th>\n",
       "      <th>date</th>\n",
       "      <th>open</th>\n",
       "      <th>high</th>\n",
       "      <th>low</th>\n",
       "      <th>close</th>\n",
       "      <th>volume</th>\n",
       "      <th>vwap</th>\n",
       "      <th>timestamp</th>\n",
       "      <th>transactions</th>\n",
       "      <th>otc</th>\n",
       "    </tr>\n",
       "  </thead>\n",
       "  <tbody>\n",
       "    <tr>\n",
       "      <th>0</th>\n",
       "      <td>2020-01-02 09:30:00-05:00</td>\n",
       "      <td>28.3000</td>\n",
       "      <td>28.5000</td>\n",
       "      <td>28.2927</td>\n",
       "      <td>28.4667</td>\n",
       "      <td>5024685.0</td>\n",
       "      <td>28.3566</td>\n",
       "      <td>1577975400000</td>\n",
       "      <td>2577</td>\n",
       "      <td>NaN</td>\n",
       "    </tr>\n",
       "    <tr>\n",
       "      <th>1</th>\n",
       "      <td>2020-01-02 09:31:00-05:00</td>\n",
       "      <td>28.4830</td>\n",
       "      <td>28.5117</td>\n",
       "      <td>28.3567</td>\n",
       "      <td>28.4467</td>\n",
       "      <td>1815930.0</td>\n",
       "      <td>28.4462</td>\n",
       "      <td>1577975460000</td>\n",
       "      <td>1591</td>\n",
       "      <td>NaN</td>\n",
       "    </tr>\n",
       "    <tr>\n",
       "      <th>2</th>\n",
       "      <td>2020-01-02 09:32:00-05:00</td>\n",
       "      <td>28.4449</td>\n",
       "      <td>28.4449</td>\n",
       "      <td>28.3727</td>\n",
       "      <td>28.4150</td>\n",
       "      <td>1338435.0</td>\n",
       "      <td>28.4130</td>\n",
       "      <td>1577975520000</td>\n",
       "      <td>1212</td>\n",
       "      <td>NaN</td>\n",
       "    </tr>\n",
       "    <tr>\n",
       "      <th>3</th>\n",
       "      <td>2020-01-02 09:33:00-05:00</td>\n",
       "      <td>28.4102</td>\n",
       "      <td>28.5333</td>\n",
       "      <td>28.4000</td>\n",
       "      <td>28.5173</td>\n",
       "      <td>1690905.0</td>\n",
       "      <td>28.4826</td>\n",
       "      <td>1577975580000</td>\n",
       "      <td>1594</td>\n",
       "      <td>NaN</td>\n",
       "    </tr>\n",
       "    <tr>\n",
       "      <th>4</th>\n",
       "      <td>2020-01-02 09:34:00-05:00</td>\n",
       "      <td>28.5272</td>\n",
       "      <td>28.5333</td>\n",
       "      <td>28.3807</td>\n",
       "      <td>28.4062</td>\n",
       "      <td>1526805.0</td>\n",
       "      <td>28.4767</td>\n",
       "      <td>1577975640000</td>\n",
       "      <td>1296</td>\n",
       "      <td>NaN</td>\n",
       "    </tr>\n",
       "    <tr>\n",
       "      <th>...</th>\n",
       "      <td>...</td>\n",
       "      <td>...</td>\n",
       "      <td>...</td>\n",
       "      <td>...</td>\n",
       "      <td>...</td>\n",
       "      <td>...</td>\n",
       "      <td>...</td>\n",
       "      <td>...</td>\n",
       "      <td>...</td>\n",
       "      <td>...</td>\n",
       "    </tr>\n",
       "    <tr>\n",
       "      <th>101667</th>\n",
       "      <td>2020-12-31 15:56:00-05:00</td>\n",
       "      <td>235.0950</td>\n",
       "      <td>235.3117</td>\n",
       "      <td>235.0567</td>\n",
       "      <td>235.2296</td>\n",
       "      <td>321456.0</td>\n",
       "      <td>235.2002</td>\n",
       "      <td>1609448160000</td>\n",
       "      <td>2053</td>\n",
       "      <td>NaN</td>\n",
       "    </tr>\n",
       "    <tr>\n",
       "      <th>101668</th>\n",
       "      <td>2020-12-31 15:57:00-05:00</td>\n",
       "      <td>235.2317</td>\n",
       "      <td>235.4667</td>\n",
       "      <td>235.2267</td>\n",
       "      <td>235.3633</td>\n",
       "      <td>484725.0</td>\n",
       "      <td>235.3562</td>\n",
       "      <td>1609448220000</td>\n",
       "      <td>2701</td>\n",
       "      <td>NaN</td>\n",
       "    </tr>\n",
       "    <tr>\n",
       "      <th>101669</th>\n",
       "      <td>2020-12-31 15:58:00-05:00</td>\n",
       "      <td>235.3833</td>\n",
       "      <td>235.5000</td>\n",
       "      <td>235.2900</td>\n",
       "      <td>235.4900</td>\n",
       "      <td>505494.0</td>\n",
       "      <td>235.3498</td>\n",
       "      <td>1609448280000</td>\n",
       "      <td>2852</td>\n",
       "      <td>NaN</td>\n",
       "    </tr>\n",
       "    <tr>\n",
       "      <th>101670</th>\n",
       "      <td>2020-12-31 15:59:00-05:00</td>\n",
       "      <td>235.4640</td>\n",
       "      <td>235.6333</td>\n",
       "      <td>235.0000</td>\n",
       "      <td>235.0700</td>\n",
       "      <td>940443.0</td>\n",
       "      <td>235.3709</td>\n",
       "      <td>1609448340000</td>\n",
       "      <td>5234</td>\n",
       "      <td>NaN</td>\n",
       "    </tr>\n",
       "    <tr>\n",
       "      <th>101671</th>\n",
       "      <td>2020-12-31 16:00:00-05:00</td>\n",
       "      <td>235.2233</td>\n",
       "      <td>235.3300</td>\n",
       "      <td>235.2100</td>\n",
       "      <td>235.2233</td>\n",
       "      <td>179379.0</td>\n",
       "      <td>235.2245</td>\n",
       "      <td>1609448400000</td>\n",
       "      <td>152</td>\n",
       "      <td>NaN</td>\n",
       "    </tr>\n",
       "  </tbody>\n",
       "</table>\n",
       "<p>101672 rows × 10 columns</p>\n",
       "</div>"
      ],
      "text/plain": [
       "                             date      open      high       low     close  \\\n",
       "0       2020-01-02 09:30:00-05:00   28.3000   28.5000   28.2927   28.4667   \n",
       "1       2020-01-02 09:31:00-05:00   28.4830   28.5117   28.3567   28.4467   \n",
       "2       2020-01-02 09:32:00-05:00   28.4449   28.4449   28.3727   28.4150   \n",
       "3       2020-01-02 09:33:00-05:00   28.4102   28.5333   28.4000   28.5173   \n",
       "4       2020-01-02 09:34:00-05:00   28.5272   28.5333   28.3807   28.4062   \n",
       "...                           ...       ...       ...       ...       ...   \n",
       "101667  2020-12-31 15:56:00-05:00  235.0950  235.3117  235.0567  235.2296   \n",
       "101668  2020-12-31 15:57:00-05:00  235.2317  235.4667  235.2267  235.3633   \n",
       "101669  2020-12-31 15:58:00-05:00  235.3833  235.5000  235.2900  235.4900   \n",
       "101670  2020-12-31 15:59:00-05:00  235.4640  235.6333  235.0000  235.0700   \n",
       "101671  2020-12-31 16:00:00-05:00  235.2233  235.3300  235.2100  235.2233   \n",
       "\n",
       "           volume      vwap      timestamp  transactions  otc  \n",
       "0       5024685.0   28.3566  1577975400000          2577  NaN  \n",
       "1       1815930.0   28.4462  1577975460000          1591  NaN  \n",
       "2       1338435.0   28.4130  1577975520000          1212  NaN  \n",
       "3       1690905.0   28.4826  1577975580000          1594  NaN  \n",
       "4       1526805.0   28.4767  1577975640000          1296  NaN  \n",
       "...           ...       ...            ...           ...  ...  \n",
       "101667   321456.0  235.2002  1609448160000          2053  NaN  \n",
       "101668   484725.0  235.3562  1609448220000          2701  NaN  \n",
       "101669   505494.0  235.3498  1609448280000          2852  NaN  \n",
       "101670   940443.0  235.3709  1609448340000          5234  NaN  \n",
       "101671   179379.0  235.2245  1609448400000           152  NaN  \n",
       "\n",
       "[101672 rows x 10 columns]"
      ]
     },
     "execution_count": 5,
     "metadata": {},
     "output_type": "execute_result"
    }
   ],
   "source": [
    "df = pd.read_csv('data/S&P 500/2021/TSLA.csv')\n",
    "df"
   ]
  },
  {
   "cell_type": "code",
   "execution_count": 7,
   "id": "c0d4b610",
   "metadata": {},
   "outputs": [],
   "source": [
    "df['closelog'] = np.log10(df.close)"
   ]
  },
  {
   "cell_type": "code",
   "execution_count": 128,
   "id": "5751c229",
   "metadata": {},
   "outputs": [
    {
     "data": {
      "text/plain": [
       "<AxesSubplot:xlabel='timestamp'>"
      ]
     },
     "execution_count": 128,
     "metadata": {},
     "output_type": "execute_result"
    },
    {
     "data": {
      "image/png": "[encoded data removed]",
      "text/plain": [
       "<Figure size 432x288 with 1 Axes>"
      ]
     },
     "metadata": {
      "needs_background": "light"
     },
     "output_type": "display_data"
    }
   ],
   "source": [
    "df.plot('timestamp', 'closelog')"
   ]
  },
  {
   "cell_type": "code",
   "execution_count": 250,
   "id": "d1fa0213",
   "metadata": {},
   "outputs": [],
   "source": [
    "x, y = df.timestamp.values, df.closelog.values\n",
    "y = y.reshape(-1, 1)\n",
    "size = len(x)\n",
    "bound = int(0.7*size)\n",
    "\n",
    "\n",
    "\n",
    "x_train, x_test = x[:bound], x[bound:]\n",
    "y_train, y_test = y[:bound], y[bound:]\n",
    "\n",
    "\n",
    "steps = 15\n",
    "\n",
    "x_ds = []\n",
    "y_ds = []\n",
    "for i in range(steps, len(x)):\n",
    "    x_ds.append(y[i-steps:i])\n",
    "    y_ds.append(y[i])\n",
    "x_ds, y_ds = np.array(x_ds), np.array(y_ds)\n",
    "\n",
    "x_train_ds = []\n",
    "y_train_ds = []\n",
    "for i in range(steps, len(x_train)):\n",
    "    x_train_ds.append(y_train[i-steps:i])\n",
    "    y_train_ds.append(y_train[i])\n",
    "x_train_ds, y_train_ds = np.array(x_train_ds), np.array(y_train_ds)\n",
    "\n",
    "x_test_ds = []\n",
    "y_test_ds = []\n",
    "for i in range(steps, len(x_test)):\n",
    "    x_test_ds.append(y_test[i-steps:i])\n",
    "    y_test_ds.append(y_test[i])\n",
    "x_test_ds, y_test_ds = np.array(x_test_ds), np.array(y_test_ds)"
   ]
  },
  {
   "cell_type": "code",
   "execution_count": 251,
   "id": "7e08aa5f",
   "metadata": {},
   "outputs": [],
   "source": [
    "model = Sequential()\n",
    "\n",
    "model.add(LSTM(units=50, return_sequences=True,\n",
    "               input_shape=(x_train_ds.shape[1], 1)))\n",
    "model.add(Dropout(0.2))\n",
    "\n",
    "model.add(LSTM(units=50, return_sequences=True))\n",
    "model.add(Dropout(0.2))\n",
    "\n",
    "model.add(LSTM(units=50, return_sequences=True))\n",
    "model.add(Dropout(0.2))\n",
    "\n",
    "model.add(LSTM(units=50))\n",
    "model.add(Dropout(0.2))\n",
    "\n",
    "model.add(Dense(units=1))\n",
    "\n",
    "model.compile(optimizer='rmsprop',loss='mean_squared_error')\n"
   ]
  },
  {
   "cell_type": "code",
   "execution_count": 252,
   "id": "a42e8979",
   "metadata": {},
   "outputs": [
    {
     "name": "stdout",
     "output_type": "stream",
     "text": [
      "Epoch 1/10\n",
      "2224/2224 [==============================] - 63s 26ms/step - loss: 0.0332\n",
      "Epoch 2/10\n",
      "2224/2224 [==============================] - 61s 27ms/step - loss: 0.0123\n",
      "Epoch 3/10\n",
      "2224/2224 [==============================] - 61s 27ms/step - loss: 0.0074\n",
      "Epoch 4/10\n",
      "2224/2224 [==============================] - 62s 28ms/step - loss: 0.0042\n",
      "Epoch 5/10\n",
      "2224/2224 [==============================] - 62s 28ms/step - loss: 0.0023\n",
      "Epoch 6/10\n",
      "2224/2224 [==============================] - 62s 28ms/step - loss: 0.0013\n",
      "Epoch 7/10\n",
      "2224/2224 [==============================] - 62s 28ms/step - loss: 8.4288e-04\n",
      "Epoch 8/10\n",
      "2224/2224 [==============================] - 63s 28ms/step - loss: 7.1483e-04\n",
      "Epoch 9/10\n",
      "2224/2224 [==============================] - 62s 28ms/step - loss: 6.3136e-04\n",
      "Epoch 10/10\n",
      "2224/2224 [==============================] - 63s 28ms/step - loss: 5.8533e-04\n"
     ]
    },
    {
     "data": {
      "text/plain": [
       "<keras.callbacks.History at 0x22c8be217f0>"
      ]
     },
     "execution_count": 252,
     "metadata": {},
     "output_type": "execute_result"
    }
   ],
   "source": [
    "model.fit(x_train_ds, y_train_ds, epochs=epochs, batch_size=32)"
   ]
  },
  {
   "cell_type": "code",
   "execution_count": 265,
   "id": "d8630302",
   "metadata": {},
   "outputs": [
    {
     "name": "stdout",
     "output_type": "stream",
     "text": [
      "953/953 [==============================] - 8s 8ms/step\n"
     ]
    }
   ],
   "source": [
    "y_pred  = model.predict(x_test_ds)"
   ]
  },
  {
   "cell_type": "code",
   "execution_count": 269,
   "id": "7a87817b",
   "metadata": {},
   "outputs": [
    {
     "data": {
      "image/png": "[encoded data removed]",
      "text/plain": [
       "<Figure size 432x288 with 1 Axes>"
      ]
     },
     "metadata": {
      "needs_background": "light"
     },
     "output_type": "display_data"
    }
   ],
   "source": [
    "plt.plot(y_test_ds, label='y_test')\n",
    "plt.plot(*y_pred.reshape(1, -1), label='y_pred')\n",
    "plt.title('Test')\n",
    "plt.xlabel('closelog')\n",
    "plt.legend()\n",
    "plt.show()"
   ]
  }
 ],
 "metadata": {
  "kernelspec": {
   "display_name": "Python 3 (ipykernel)",
   "language": "python",
   "name": "python3"
  },
  "language_info": {
   "codemirror_mode": {
    "name": "ipython",
    "version": 3
   },
   "file_extension": ".py",
   "mimetype": "text/x-python",
   "name": "python",
   "nbconvert_exporter": "python",
   "pygments_lexer": "ipython3",
   "version": "3.8.6"
  }
 },
 "nbformat": 4,
 "nbformat_minor": 5
}
